{
 "cells": [
  {
   "cell_type": "code",
   "execution_count": 124,
   "metadata": {
    "collapsed": true
   },
   "outputs": [],
   "source": [
    "import pandas\n",
    "import matplotlib.pyplot as plt\n",
    "import seaborn\n",
    "seaborn.set_style(\"whitegrid\")\n",
    "seaborn.despine()\n",
    "%matplotlib inline\n",
    "%config InlineBackend.figure_formats = {'svg',}"
   ]
  },
  {
   "cell_type": "code",
   "execution_count": 125,
   "metadata": {
    "collapsed": false
   },
   "outputs": [],
   "source": [
    "# Path of the logs\n",
    "log_path = '/Users/mygreencar/Desktop/logs.csv'\n",
    "\n",
    "# Read log\n",
    "log = pandas.read_csv(log_path, index_col=0, parse_dates=[1])"
   ]
  },
  {
   "cell_type": "code",
   "execution_count": 130,
   "metadata": {
    "collapsed": false
   },
   "outputs": [],
   "source": [
    "def timeseries(keys, log, freq='1D'):\n",
    "    \"\"\"Create a time series with keys\"\"\"\n",
    "    # Filter keys\n",
    "    data = log[log.key.isin(keys)]\n",
    "    \n",
    "    # Get unique dates\n",
    "    x_set = pandas.unique(data['datetime'])\n",
    "    \n",
    "    # Get last value for each unique date\n",
    "    data_set = []\n",
    "    for x in x_set:\n",
    "        data_set.append(data[data['datetime'] == x].iloc[-1])\n",
    "        \n",
    "    # Recreate a dataframe and resample to 1 day\n",
    "    xy = pandas.DataFrame(data_set)[['datetime', 'value']]\n",
    "    xy = xy.set_index(['datetime'])\n",
    "    xy = xy.resample(freq).ffill()\n",
    "    return xy\n",
    "\n",
    "def plot_timeserie(timeserie, log, title='no title', ylabel='Stock', save=False, dpi=600):\n",
    "    \"\"\"Plot timeserie\"\"\"\n",
    "    plt.figure(figsize=(10, 5))\n",
    "    plot_window_open(log)\n",
    "    plt.plot(timeserie)\n",
    "    plt.title(title)\n",
    "    plt.ylabel(ylabel)\n",
    "    plt.xlabel('Time')\n",
    "    plt.legend(loc=0)\n",
    "    if save:\n",
    "        plt.savefig(save, dpi=dpi)\n",
    "        plt.close()\n",
    "    else:\n",
    "        plt.show()\n",
    "        \n",
    "def plot_window_open(log):\n",
    "    \"\"\"Plot line at window opening\"\"\"\n",
    "    # Find date of window opening\n",
    "    dates = log[log.key == 'launch_window_open'].datetime.tolist()\n",
    "    \n",
    "    # Plot lines\n",
    "    for date in dates:\n",
    "        plt.axvline(date, linewidth=4, color='r', alpha=0.5)\n"
   ]
  },
  {
   "cell_type": "code",
   "execution_count": 131,
   "metadata": {
    "collapsed": false
   },
   "outputs": [],
   "source": [
    "graph_path = '/Users/mygreencar/Desktop/'\n",
    "graphs = [{'keys': ['get_booster_earth', 'put_booster_earth'],\n",
    "           'title': 'Earth booster'},\n",
    "          {'keys': ['get_tank_earth', 'put_tank_earth'],\n",
    "           'title': 'Earth tank'},\n",
    "          {'keys': ['get_heartofgold_earth', 'put_heartofgold_earth'],\n",
    "           'title': 'Earth heartofgold'},]\n",
    "\n",
    "for graph in graphs:\n",
    "    xy = timeseries(graph['keys'], log)\n",
    "    plot_timeserie(xy, log, graph['title'], save=graph_path + graph['title'] + '.png')"
   ]
  }
 ],
 "metadata": {
  "kernelspec": {
   "display_name": "Python [Root]",
   "language": "python",
   "name": "Python [Root]"
  },
  "language_info": {
   "codemirror_mode": {
    "name": "ipython",
    "version": 2
   },
   "file_extension": ".py",
   "mimetype": "text/x-python",
   "name": "python",
   "nbconvert_exporter": "python",
   "pygments_lexer": "ipython2",
   "version": "2.7.12"
  }
 },
 "nbformat": 4,
 "nbformat_minor": 0
}
